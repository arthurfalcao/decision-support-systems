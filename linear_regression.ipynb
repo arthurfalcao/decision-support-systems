{
  "nbformat": 4,
  "nbformat_minor": 0,
  "metadata": {
    "colab": {
      "name": "linear_regression.ipynb",
      "provenance": [],
      "collapsed_sections": [],
      "include_colab_link": true
    },
    "kernelspec": {
      "name": "python3",
      "display_name": "Python 3"
    }
  },
  "cells": [
    {
      "cell_type": "markdown",
      "metadata": {
        "id": "view-in-github",
        "colab_type": "text"
      },
      "source": [
        "<a href=\"https://colab.research.google.com/github/arthurfalcao/decision-support-systems/blob/master/linear_regression.ipynb\" target=\"_parent\"><img src=\"https://colab.research.google.com/assets/colab-badge.svg\" alt=\"Open In Colab\"/></a>"
      ]
    },
    {
      "cell_type": "markdown",
      "metadata": {
        "id": "QcAxpvekJkcd",
        "colab_type": "text"
      },
      "source": [
        "# Regressão Linear  - Don Pastello\n",
        "\n",
        "## Descrição:\n",
        "\n",
        "Após altos valores de cancelamento, foi feito uma previsão do valor a partir de duas variáveis, 1ª: se é fim de semana ou não; 2ª: valor de venda. Com essa previsão podemos correr atrás dos principais motivos de cancelamento e realizar as medidas cabíveis, como treinar os funcionários ou melhorar o sistema PDV.\n",
        "\n",
        "## Dados:\n",
        "\n",
        "<ul style='font-size: 18px; line-height: 2; text-align: justify;'>\n",
        "    <li><b>data</b> - Data</li>\n",
        "    <li><b>venda_dia</b> - Valor de vendas no dia (R&#36;)</li>\n",
        "    <li><b>valor_canc</b> - Valor cancelado (R&#36;)</li>\n",
        "    <li><b>fds</b> - Final de Semana (1 = Sim; 0 = Não)</li>\n",
        "</ul>"
      ]
    },
    {
      "cell_type": "code",
      "metadata": {
        "id": "GkTrzDIOw4f8",
        "colab_type": "code",
        "colab": {}
      },
      "source": [
        "import matplotlib.pyplot as plt\n",
        "import pandas as pd\n",
        "import numpy as np"
      ],
      "execution_count": 0,
      "outputs": []
    },
    {
      "cell_type": "code",
      "metadata": {
        "id": "VSXDs7IMw-yP",
        "colab_type": "code",
        "outputId": "52103f16-89ee-4a58-bf3e-f9a498b8f6aa",
        "colab": {
          "base_uri": "https://localhost:8080/",
          "height": 439
        }
      },
      "source": [
        "dataframe = pd.read_csv('./don_pastello.csv', sep=',')\n",
        "dataframe"
      ],
      "execution_count": 0,
      "outputs": [
        {
          "output_type": "execute_result",
          "data": {
            "text/html": [
              "<div>\n",
              "<style scoped>\n",
              "    .dataframe tbody tr th:only-of-type {\n",
              "        vertical-align: middle;\n",
              "    }\n",
              "\n",
              "    .dataframe tbody tr th {\n",
              "        vertical-align: top;\n",
              "    }\n",
              "\n",
              "    .dataframe thead th {\n",
              "        text-align: right;\n",
              "    }\n",
              "</style>\n",
              "<table border=\"1\" class=\"dataframe\">\n",
              "  <thead>\n",
              "    <tr style=\"text-align: right;\">\n",
              "      <th></th>\n",
              "      <th>data</th>\n",
              "      <th>venda_dia</th>\n",
              "      <th>venda_acum</th>\n",
              "      <th>venda_media</th>\n",
              "      <th>proj_acum</th>\n",
              "      <th>merc_dia</th>\n",
              "      <th>merc_acum</th>\n",
              "      <th>perc_merc</th>\n",
              "      <th>dif_dia_caixa</th>\n",
              "      <th>dif_acum</th>\n",
              "      <th>valor_canc</th>\n",
              "      <th>perc_canc</th>\n",
              "      <th>canc_acum</th>\n",
              "      <th>perc_canc_acum</th>\n",
              "      <th>fds</th>\n",
              "    </tr>\n",
              "  </thead>\n",
              "  <tbody>\n",
              "    <tr>\n",
              "      <th>0</th>\n",
              "      <td>01/08/2019</td>\n",
              "      <td>4944.7</td>\n",
              "      <td>4944.7</td>\n",
              "      <td>4944.70</td>\n",
              "      <td>4944.7</td>\n",
              "      <td>608.53</td>\n",
              "      <td>608.53</td>\n",
              "      <td>12.31</td>\n",
              "      <td>-1.90</td>\n",
              "      <td>-1.90</td>\n",
              "      <td>817.63</td>\n",
              "      <td>16.54</td>\n",
              "      <td>817.63</td>\n",
              "      <td>16.54</td>\n",
              "      <td>0</td>\n",
              "    </tr>\n",
              "    <tr>\n",
              "      <th>1</th>\n",
              "      <td>02/08/2019</td>\n",
              "      <td>6415.5</td>\n",
              "      <td>11360.2</td>\n",
              "      <td>5680.10</td>\n",
              "      <td>11360.2</td>\n",
              "      <td>0.00</td>\n",
              "      <td>608.53</td>\n",
              "      <td>5.36</td>\n",
              "      <td>-0.75</td>\n",
              "      <td>-2.65</td>\n",
              "      <td>769.85</td>\n",
              "      <td>12.00</td>\n",
              "      <td>1587.48</td>\n",
              "      <td>13.97</td>\n",
              "      <td>0</td>\n",
              "    </tr>\n",
              "    <tr>\n",
              "      <th>2</th>\n",
              "      <td>03/08/2019</td>\n",
              "      <td>7262.9</td>\n",
              "      <td>18623.1</td>\n",
              "      <td>6207.70</td>\n",
              "      <td>18623.1</td>\n",
              "      <td>0.00</td>\n",
              "      <td>608.53</td>\n",
              "      <td>3.27</td>\n",
              "      <td>-9.62</td>\n",
              "      <td>-12.27</td>\n",
              "      <td>647.18</td>\n",
              "      <td>8.91</td>\n",
              "      <td>2234.66</td>\n",
              "      <td>12.00</td>\n",
              "      <td>1</td>\n",
              "    </tr>\n",
              "    <tr>\n",
              "      <th>3</th>\n",
              "      <td>04/08/2019</td>\n",
              "      <td>6069.9</td>\n",
              "      <td>24693.0</td>\n",
              "      <td>6173.25</td>\n",
              "      <td>24693.0</td>\n",
              "      <td>0.00</td>\n",
              "      <td>608.53</td>\n",
              "      <td>2.46</td>\n",
              "      <td>5.45</td>\n",
              "      <td>-6.82</td>\n",
              "      <td>1073.59</td>\n",
              "      <td>17.69</td>\n",
              "      <td>3308.25</td>\n",
              "      <td>13.40</td>\n",
              "      <td>1</td>\n",
              "    </tr>\n",
              "    <tr>\n",
              "      <th>4</th>\n",
              "      <td>05/08/2019</td>\n",
              "      <td>7113.4</td>\n",
              "      <td>31806.4</td>\n",
              "      <td>6361.28</td>\n",
              "      <td>31806.4</td>\n",
              "      <td>2340.03</td>\n",
              "      <td>2948.56</td>\n",
              "      <td>9.27</td>\n",
              "      <td>-15.95</td>\n",
              "      <td>-22.77</td>\n",
              "      <td>1172.27</td>\n",
              "      <td>16.48</td>\n",
              "      <td>4480.52</td>\n",
              "      <td>14.09</td>\n",
              "      <td>0</td>\n",
              "    </tr>\n",
              "    <tr>\n",
              "      <th>...</th>\n",
              "      <td>...</td>\n",
              "      <td>...</td>\n",
              "      <td>...</td>\n",
              "      <td>...</td>\n",
              "      <td>...</td>\n",
              "      <td>...</td>\n",
              "      <td>...</td>\n",
              "      <td>...</td>\n",
              "      <td>...</td>\n",
              "      <td>...</td>\n",
              "      <td>...</td>\n",
              "      <td>...</td>\n",
              "      <td>...</td>\n",
              "      <td>...</td>\n",
              "      <td>...</td>\n",
              "    </tr>\n",
              "    <tr>\n",
              "      <th>117</th>\n",
              "      <td>26/11/2019</td>\n",
              "      <td>4498.7</td>\n",
              "      <td>154777.9</td>\n",
              "      <td>5953.00</td>\n",
              "      <td>154777.9</td>\n",
              "      <td>8144.18</td>\n",
              "      <td>35543.44</td>\n",
              "      <td>22.96</td>\n",
              "      <td>5.50</td>\n",
              "      <td>293.69</td>\n",
              "      <td>885.95</td>\n",
              "      <td>19.69</td>\n",
              "      <td>31,058.88</td>\n",
              "      <td>20.07</td>\n",
              "      <td>0</td>\n",
              "    </tr>\n",
              "    <tr>\n",
              "      <th>118</th>\n",
              "      <td>27/11/2019</td>\n",
              "      <td>5050.5</td>\n",
              "      <td>159828.4</td>\n",
              "      <td>5919.57</td>\n",
              "      <td>159828.4</td>\n",
              "      <td>0.00</td>\n",
              "      <td>35543.44</td>\n",
              "      <td>22.24</td>\n",
              "      <td>-77.00</td>\n",
              "      <td>216.69</td>\n",
              "      <td>1123.63</td>\n",
              "      <td>22.25</td>\n",
              "      <td>32,182.51</td>\n",
              "      <td>20.14</td>\n",
              "      <td>0</td>\n",
              "    </tr>\n",
              "    <tr>\n",
              "      <th>119</th>\n",
              "      <td>28/11/2019</td>\n",
              "      <td>5706.4</td>\n",
              "      <td>165534.8</td>\n",
              "      <td>5911.96</td>\n",
              "      <td>165534.8</td>\n",
              "      <td>304.83</td>\n",
              "      <td>35848.27</td>\n",
              "      <td>21.66</td>\n",
              "      <td>46.25</td>\n",
              "      <td>262.94</td>\n",
              "      <td>1883.78</td>\n",
              "      <td>33.01</td>\n",
              "      <td>34,066.29</td>\n",
              "      <td>20.58</td>\n",
              "      <td>0</td>\n",
              "    </tr>\n",
              "    <tr>\n",
              "      <th>120</th>\n",
              "      <td>29/11/2019</td>\n",
              "      <td>11885.5</td>\n",
              "      <td>177420.3</td>\n",
              "      <td>6117.94</td>\n",
              "      <td>177420.3</td>\n",
              "      <td>2435.25</td>\n",
              "      <td>38283.52</td>\n",
              "      <td>21.58</td>\n",
              "      <td>350.25</td>\n",
              "      <td>613.19</td>\n",
              "      <td>2926.12</td>\n",
              "      <td>24.62</td>\n",
              "      <td>36,992.41</td>\n",
              "      <td>20.85</td>\n",
              "      <td>0</td>\n",
              "    </tr>\n",
              "    <tr>\n",
              "      <th>121</th>\n",
              "      <td>30/11/2019</td>\n",
              "      <td>9575.3</td>\n",
              "      <td>186995.6</td>\n",
              "      <td>6233.19</td>\n",
              "      <td>186995.6</td>\n",
              "      <td>0.00</td>\n",
              "      <td>38283.52</td>\n",
              "      <td>20.47</td>\n",
              "      <td>357.40</td>\n",
              "      <td>970.59</td>\n",
              "      <td>2572.06</td>\n",
              "      <td>26.86</td>\n",
              "      <td>39,564.47</td>\n",
              "      <td>21.16</td>\n",
              "      <td>1</td>\n",
              "    </tr>\n",
              "  </tbody>\n",
              "</table>\n",
              "<p>122 rows × 15 columns</p>\n",
              "</div>"
            ],
            "text/plain": [
              "           data  venda_dia  venda_acum  ...  canc_acum  perc_canc_acum  fds\n",
              "0    01/08/2019     4944.7      4944.7  ...     817.63           16.54    0\n",
              "1    02/08/2019     6415.5     11360.2  ...    1587.48           13.97    0\n",
              "2    03/08/2019     7262.9     18623.1  ...    2234.66           12.00    1\n",
              "3    04/08/2019     6069.9     24693.0  ...    3308.25           13.40    1\n",
              "4    05/08/2019     7113.4     31806.4  ...    4480.52           14.09    0\n",
              "..          ...        ...         ...  ...        ...             ...  ...\n",
              "117  26/11/2019     4498.7    154777.9  ...  31,058.88           20.07    0\n",
              "118  27/11/2019     5050.5    159828.4  ...  32,182.51           20.14    0\n",
              "119  28/11/2019     5706.4    165534.8  ...  34,066.29           20.58    0\n",
              "120  29/11/2019    11885.5    177420.3  ...  36,992.41           20.85    0\n",
              "121  30/11/2019     9575.3    186995.6  ...  39,564.47           21.16    1\n",
              "\n",
              "[122 rows x 15 columns]"
            ]
          },
          "metadata": {
            "tags": []
          },
          "execution_count": 2
        }
      ]
    },
    {
      "cell_type": "markdown",
      "metadata": {
        "id": "ypgYMhVd2F8y",
        "colab_type": "text"
      },
      "source": [
        "## Estatísticas descritivas"
      ]
    },
    {
      "cell_type": "code",
      "metadata": {
        "id": "jNqyiPfZy5qM",
        "colab_type": "code",
        "outputId": "bb4cda2e-e543-4679-8f4e-a2574c0970d4",
        "colab": {
          "base_uri": "https://localhost:8080/",
          "height": 317
        }
      },
      "source": [
        "dataframe.describe().round(2)"
      ],
      "execution_count": 0,
      "outputs": [
        {
          "output_type": "execute_result",
          "data": {
            "text/html": [
              "<div>\n",
              "<style scoped>\n",
              "    .dataframe tbody tr th:only-of-type {\n",
              "        vertical-align: middle;\n",
              "    }\n",
              "\n",
              "    .dataframe tbody tr th {\n",
              "        vertical-align: top;\n",
              "    }\n",
              "\n",
              "    .dataframe thead th {\n",
              "        text-align: right;\n",
              "    }\n",
              "</style>\n",
              "<table border=\"1\" class=\"dataframe\">\n",
              "  <thead>\n",
              "    <tr style=\"text-align: right;\">\n",
              "      <th></th>\n",
              "      <th>venda_dia</th>\n",
              "      <th>venda_acum</th>\n",
              "      <th>venda_media</th>\n",
              "      <th>proj_acum</th>\n",
              "      <th>merc_dia</th>\n",
              "      <th>merc_acum</th>\n",
              "      <th>perc_merc</th>\n",
              "      <th>dif_dia_caixa</th>\n",
              "      <th>dif_acum</th>\n",
              "      <th>valor_canc</th>\n",
              "      <th>perc_canc</th>\n",
              "      <th>perc_canc_acum</th>\n",
              "      <th>fds</th>\n",
              "    </tr>\n",
              "  </thead>\n",
              "  <tbody>\n",
              "    <tr>\n",
              "      <th>count</th>\n",
              "      <td>122.00</td>\n",
              "      <td>122.00</td>\n",
              "      <td>122.00</td>\n",
              "      <td>122.00</td>\n",
              "      <td>122.00</td>\n",
              "      <td>122.00</td>\n",
              "      <td>122.00</td>\n",
              "      <td>122.00</td>\n",
              "      <td>122.00</td>\n",
              "      <td>122.00</td>\n",
              "      <td>122.00</td>\n",
              "      <td>122.00</td>\n",
              "      <td>122.00</td>\n",
              "    </tr>\n",
              "    <tr>\n",
              "      <th>mean</th>\n",
              "      <td>5998.76</td>\n",
              "      <td>95364.68</td>\n",
              "      <td>6012.54</td>\n",
              "      <td>95364.68</td>\n",
              "      <td>1304.41</td>\n",
              "      <td>20035.89</td>\n",
              "      <td>21.12</td>\n",
              "      <td>-18.76</td>\n",
              "      <td>-57.03</td>\n",
              "      <td>1078.84</td>\n",
              "      <td>18.04</td>\n",
              "      <td>17.45</td>\n",
              "      <td>0.29</td>\n",
              "    </tr>\n",
              "    <tr>\n",
              "      <th>std</th>\n",
              "      <td>1620.96</td>\n",
              "      <td>53426.22</td>\n",
              "      <td>462.62</td>\n",
              "      <td>53426.22</td>\n",
              "      <td>2367.32</td>\n",
              "      <td>12125.17</td>\n",
              "      <td>8.73</td>\n",
              "      <td>138.59</td>\n",
              "      <td>346.43</td>\n",
              "      <td>416.94</td>\n",
              "      <td>4.59</td>\n",
              "      <td>2.34</td>\n",
              "      <td>0.45</td>\n",
              "    </tr>\n",
              "    <tr>\n",
              "      <th>min</th>\n",
              "      <td>3360.90</td>\n",
              "      <td>4479.20</td>\n",
              "      <td>4479.20</td>\n",
              "      <td>4479.20</td>\n",
              "      <td>0.00</td>\n",
              "      <td>0.00</td>\n",
              "      <td>0.00</td>\n",
              "      <td>-800.00</td>\n",
              "      <td>-2145.14</td>\n",
              "      <td>525.01</td>\n",
              "      <td>8.91</td>\n",
              "      <td>12.00</td>\n",
              "      <td>0.00</td>\n",
              "    </tr>\n",
              "    <tr>\n",
              "      <th>25%</th>\n",
              "      <td>4855.40</td>\n",
              "      <td>48652.45</td>\n",
              "      <td>5789.00</td>\n",
              "      <td>48652.45</td>\n",
              "      <td>0.00</td>\n",
              "      <td>9609.48</td>\n",
              "      <td>18.09</td>\n",
              "      <td>-1.87</td>\n",
              "      <td>-79.04</td>\n",
              "      <td>792.16</td>\n",
              "      <td>14.90</td>\n",
              "      <td>15.26</td>\n",
              "      <td>0.00</td>\n",
              "    </tr>\n",
              "    <tr>\n",
              "      <th>50%</th>\n",
              "      <td>5731.42</td>\n",
              "      <td>99423.15</td>\n",
              "      <td>5994.99</td>\n",
              "      <td>99423.15</td>\n",
              "      <td>69.80</td>\n",
              "      <td>21324.31</td>\n",
              "      <td>20.98</td>\n",
              "      <td>1.40</td>\n",
              "      <td>-2.84</td>\n",
              "      <td>1026.71</td>\n",
              "      <td>17.35</td>\n",
              "      <td>17.63</td>\n",
              "      <td>0.00</td>\n",
              "    </tr>\n",
              "    <tr>\n",
              "      <th>75%</th>\n",
              "      <td>6890.57</td>\n",
              "      <td>140150.20</td>\n",
              "      <td>6281.47</td>\n",
              "      <td>140150.20</td>\n",
              "      <td>1408.76</td>\n",
              "      <td>31120.02</td>\n",
              "      <td>23.42</td>\n",
              "      <td>10.82</td>\n",
              "      <td>107.21</td>\n",
              "      <td>1202.84</td>\n",
              "      <td>21.04</td>\n",
              "      <td>19.58</td>\n",
              "      <td>1.00</td>\n",
              "    </tr>\n",
              "    <tr>\n",
              "      <th>max</th>\n",
              "      <td>11885.50</td>\n",
              "      <td>195118.95</td>\n",
              "      <td>7354.55</td>\n",
              "      <td>195118.95</td>\n",
              "      <td>9729.85</td>\n",
              "      <td>44980.13</td>\n",
              "      <td>84.54</td>\n",
              "      <td>357.40</td>\n",
              "      <td>970.59</td>\n",
              "      <td>2926.12</td>\n",
              "      <td>33.01</td>\n",
              "      <td>22.04</td>\n",
              "      <td>1.00</td>\n",
              "    </tr>\n",
              "  </tbody>\n",
              "</table>\n",
              "</div>"
            ],
            "text/plain": [
              "       venda_dia  venda_acum  venda_media  ...  perc_canc  perc_canc_acum     fds\n",
              "count     122.00      122.00       122.00  ...     122.00          122.00  122.00\n",
              "mean     5998.76    95364.68      6012.54  ...      18.04           17.45    0.29\n",
              "std      1620.96    53426.22       462.62  ...       4.59            2.34    0.45\n",
              "min      3360.90     4479.20      4479.20  ...       8.91           12.00    0.00\n",
              "25%      4855.40    48652.45      5789.00  ...      14.90           15.26    0.00\n",
              "50%      5731.42    99423.15      5994.99  ...      17.35           17.63    0.00\n",
              "75%      6890.57   140150.20      6281.47  ...      21.04           19.58    1.00\n",
              "max     11885.50   195118.95      7354.55  ...      33.01           22.04    1.00\n",
              "\n",
              "[8 rows x 13 columns]"
            ]
          },
          "metadata": {
            "tags": []
          },
          "execution_count": 3
        }
      ]
    },
    {
      "cell_type": "markdown",
      "metadata": {
        "id": "-su7uMqX2KQl",
        "colab_type": "text"
      },
      "source": [
        "## Matriz de correlação"
      ]
    },
    {
      "cell_type": "code",
      "metadata": {
        "id": "2WekBPHu2K1F",
        "colab_type": "code",
        "outputId": "525fbc58-4c7a-4300-f207-f7d203c3f571",
        "colab": {
          "base_uri": "https://localhost:8080/",
          "height": 472
        }
      },
      "source": [
        "dataframe.corr().round(4)"
      ],
      "execution_count": 0,
      "outputs": [
        {
          "output_type": "execute_result",
          "data": {
            "text/html": [
              "<div>\n",
              "<style scoped>\n",
              "    .dataframe tbody tr th:only-of-type {\n",
              "        vertical-align: middle;\n",
              "    }\n",
              "\n",
              "    .dataframe tbody tr th {\n",
              "        vertical-align: top;\n",
              "    }\n",
              "\n",
              "    .dataframe thead th {\n",
              "        text-align: right;\n",
              "    }\n",
              "</style>\n",
              "<table border=\"1\" class=\"dataframe\">\n",
              "  <thead>\n",
              "    <tr style=\"text-align: right;\">\n",
              "      <th></th>\n",
              "      <th>venda_dia</th>\n",
              "      <th>venda_acum</th>\n",
              "      <th>venda_media</th>\n",
              "      <th>proj_acum</th>\n",
              "      <th>merc_dia</th>\n",
              "      <th>merc_acum</th>\n",
              "      <th>perc_merc</th>\n",
              "      <th>dif_dia_caixa</th>\n",
              "      <th>dif_acum</th>\n",
              "      <th>valor_canc</th>\n",
              "      <th>perc_canc</th>\n",
              "      <th>perc_canc_acum</th>\n",
              "      <th>fds</th>\n",
              "    </tr>\n",
              "  </thead>\n",
              "  <tbody>\n",
              "    <tr>\n",
              "      <th>venda_dia</th>\n",
              "      <td>1.0000</td>\n",
              "      <td>-0.0325</td>\n",
              "      <td>0.3435</td>\n",
              "      <td>-0.0325</td>\n",
              "      <td>-0.2470</td>\n",
              "      <td>-0.1207</td>\n",
              "      <td>-0.2818</td>\n",
              "      <td>0.0612</td>\n",
              "      <td>0.1220</td>\n",
              "      <td>0.7273</td>\n",
              "      <td>-0.0444</td>\n",
              "      <td>-0.0724</td>\n",
              "      <td>0.5600</td>\n",
              "    </tr>\n",
              "    <tr>\n",
              "      <th>venda_acum</th>\n",
              "      <td>-0.0325</td>\n",
              "      <td>1.0000</td>\n",
              "      <td>0.2207</td>\n",
              "      <td>1.0000</td>\n",
              "      <td>0.0323</td>\n",
              "      <td>0.9740</td>\n",
              "      <td>-0.0237</td>\n",
              "      <td>-0.2146</td>\n",
              "      <td>-0.3001</td>\n",
              "      <td>0.0953</td>\n",
              "      <td>0.1591</td>\n",
              "      <td>0.0213</td>\n",
              "      <td>0.0122</td>\n",
              "    </tr>\n",
              "    <tr>\n",
              "      <th>venda_media</th>\n",
              "      <td>0.3435</td>\n",
              "      <td>0.2207</td>\n",
              "      <td>1.0000</td>\n",
              "      <td>0.2207</td>\n",
              "      <td>0.0195</td>\n",
              "      <td>0.1570</td>\n",
              "      <td>-0.4785</td>\n",
              "      <td>-0.0487</td>\n",
              "      <td>-0.1339</td>\n",
              "      <td>0.2058</td>\n",
              "      <td>-0.0775</td>\n",
              "      <td>-0.1642</td>\n",
              "      <td>0.2780</td>\n",
              "    </tr>\n",
              "    <tr>\n",
              "      <th>proj_acum</th>\n",
              "      <td>-0.0325</td>\n",
              "      <td>1.0000</td>\n",
              "      <td>0.2207</td>\n",
              "      <td>1.0000</td>\n",
              "      <td>0.0323</td>\n",
              "      <td>0.9740</td>\n",
              "      <td>-0.0237</td>\n",
              "      <td>-0.2146</td>\n",
              "      <td>-0.3001</td>\n",
              "      <td>0.0953</td>\n",
              "      <td>0.1591</td>\n",
              "      <td>0.0213</td>\n",
              "      <td>0.0122</td>\n",
              "    </tr>\n",
              "    <tr>\n",
              "      <th>merc_dia</th>\n",
              "      <td>-0.2470</td>\n",
              "      <td>0.0323</td>\n",
              "      <td>0.0195</td>\n",
              "      <td>0.0323</td>\n",
              "      <td>1.0000</td>\n",
              "      <td>0.1296</td>\n",
              "      <td>0.3101</td>\n",
              "      <td>0.0521</td>\n",
              "      <td>0.0267</td>\n",
              "      <td>-0.1839</td>\n",
              "      <td>0.0111</td>\n",
              "      <td>0.0100</td>\n",
              "      <td>-0.3487</td>\n",
              "    </tr>\n",
              "    <tr>\n",
              "      <th>merc_acum</th>\n",
              "      <td>-0.1207</td>\n",
              "      <td>0.9740</td>\n",
              "      <td>0.1570</td>\n",
              "      <td>0.9740</td>\n",
              "      <td>0.1296</td>\n",
              "      <td>1.0000</td>\n",
              "      <td>0.1043</td>\n",
              "      <td>-0.2468</td>\n",
              "      <td>-0.3521</td>\n",
              "      <td>0.0047</td>\n",
              "      <td>0.1192</td>\n",
              "      <td>0.0229</td>\n",
              "      <td>-0.0977</td>\n",
              "    </tr>\n",
              "    <tr>\n",
              "      <th>perc_merc</th>\n",
              "      <td>-0.2818</td>\n",
              "      <td>-0.0237</td>\n",
              "      <td>-0.4785</td>\n",
              "      <td>-0.0237</td>\n",
              "      <td>0.3101</td>\n",
              "      <td>0.1043</td>\n",
              "      <td>1.0000</td>\n",
              "      <td>-0.0294</td>\n",
              "      <td>-0.0546</td>\n",
              "      <td>-0.1183</td>\n",
              "      <td>0.1361</td>\n",
              "      <td>0.2648</td>\n",
              "      <td>-0.3291</td>\n",
              "    </tr>\n",
              "    <tr>\n",
              "      <th>dif_dia_caixa</th>\n",
              "      <td>0.0612</td>\n",
              "      <td>-0.2146</td>\n",
              "      <td>-0.0487</td>\n",
              "      <td>-0.2146</td>\n",
              "      <td>0.0521</td>\n",
              "      <td>-0.2468</td>\n",
              "      <td>-0.0294</td>\n",
              "      <td>1.0000</td>\n",
              "      <td>0.7119</td>\n",
              "      <td>0.2437</td>\n",
              "      <td>0.2462</td>\n",
              "      <td>0.2381</td>\n",
              "      <td>-0.0241</td>\n",
              "    </tr>\n",
              "    <tr>\n",
              "      <th>dif_acum</th>\n",
              "      <td>0.1220</td>\n",
              "      <td>-0.3001</td>\n",
              "      <td>-0.1339</td>\n",
              "      <td>-0.3001</td>\n",
              "      <td>0.0267</td>\n",
              "      <td>-0.3521</td>\n",
              "      <td>-0.0546</td>\n",
              "      <td>0.7119</td>\n",
              "      <td>1.0000</td>\n",
              "      <td>0.2143</td>\n",
              "      <td>0.1083</td>\n",
              "      <td>0.1383</td>\n",
              "      <td>-0.0356</td>\n",
              "    </tr>\n",
              "    <tr>\n",
              "      <th>valor_canc</th>\n",
              "      <td>0.7273</td>\n",
              "      <td>0.0953</td>\n",
              "      <td>0.2058</td>\n",
              "      <td>0.0953</td>\n",
              "      <td>-0.1839</td>\n",
              "      <td>0.0047</td>\n",
              "      <td>-0.1183</td>\n",
              "      <td>0.2437</td>\n",
              "      <td>0.2143</td>\n",
              "      <td>1.0000</td>\n",
              "      <td>0.6310</td>\n",
              "      <td>0.3847</td>\n",
              "      <td>0.4546</td>\n",
              "    </tr>\n",
              "    <tr>\n",
              "      <th>perc_canc</th>\n",
              "      <td>-0.0444</td>\n",
              "      <td>0.1591</td>\n",
              "      <td>-0.0775</td>\n",
              "      <td>0.1591</td>\n",
              "      <td>0.0111</td>\n",
              "      <td>0.1192</td>\n",
              "      <td>0.1361</td>\n",
              "      <td>0.2462</td>\n",
              "      <td>0.1083</td>\n",
              "      <td>0.6310</td>\n",
              "      <td>1.0000</td>\n",
              "      <td>0.6083</td>\n",
              "      <td>0.0699</td>\n",
              "    </tr>\n",
              "    <tr>\n",
              "      <th>perc_canc_acum</th>\n",
              "      <td>-0.0724</td>\n",
              "      <td>0.0213</td>\n",
              "      <td>-0.1642</td>\n",
              "      <td>0.0213</td>\n",
              "      <td>0.0100</td>\n",
              "      <td>0.0229</td>\n",
              "      <td>0.2648</td>\n",
              "      <td>0.2381</td>\n",
              "      <td>0.1383</td>\n",
              "      <td>0.3847</td>\n",
              "      <td>0.6083</td>\n",
              "      <td>1.0000</td>\n",
              "      <td>-0.0307</td>\n",
              "    </tr>\n",
              "    <tr>\n",
              "      <th>fds</th>\n",
              "      <td>0.5600</td>\n",
              "      <td>0.0122</td>\n",
              "      <td>0.2780</td>\n",
              "      <td>0.0122</td>\n",
              "      <td>-0.3487</td>\n",
              "      <td>-0.0977</td>\n",
              "      <td>-0.3291</td>\n",
              "      <td>-0.0241</td>\n",
              "      <td>-0.0356</td>\n",
              "      <td>0.4546</td>\n",
              "      <td>0.0699</td>\n",
              "      <td>-0.0307</td>\n",
              "      <td>1.0000</td>\n",
              "    </tr>\n",
              "  </tbody>\n",
              "</table>\n",
              "</div>"
            ],
            "text/plain": [
              "                venda_dia  venda_acum  ...  perc_canc_acum     fds\n",
              "venda_dia          1.0000     -0.0325  ...         -0.0724  0.5600\n",
              "venda_acum        -0.0325      1.0000  ...          0.0213  0.0122\n",
              "venda_media        0.3435      0.2207  ...         -0.1642  0.2780\n",
              "proj_acum         -0.0325      1.0000  ...          0.0213  0.0122\n",
              "merc_dia          -0.2470      0.0323  ...          0.0100 -0.3487\n",
              "merc_acum         -0.1207      0.9740  ...          0.0229 -0.0977\n",
              "perc_merc         -0.2818     -0.0237  ...          0.2648 -0.3291\n",
              "dif_dia_caixa      0.0612     -0.2146  ...          0.2381 -0.0241\n",
              "dif_acum           0.1220     -0.3001  ...          0.1383 -0.0356\n",
              "valor_canc         0.7273      0.0953  ...          0.3847  0.4546\n",
              "perc_canc         -0.0444      0.1591  ...          0.6083  0.0699\n",
              "perc_canc_acum    -0.0724      0.0213  ...          1.0000 -0.0307\n",
              "fds                0.5600      0.0122  ...         -0.0307  1.0000\n",
              "\n",
              "[13 rows x 13 columns]"
            ]
          },
          "metadata": {
            "tags": []
          },
          "execution_count": 4
        }
      ]
    },
    {
      "cell_type": "code",
      "metadata": {
        "id": "oGgPKmaJ4UBU",
        "colab_type": "code",
        "colab": {}
      },
      "source": [
        "import seaborn as sns"
      ],
      "execution_count": 0,
      "outputs": []
    },
    {
      "cell_type": "code",
      "metadata": {
        "id": "Y3urRcy34U7t",
        "colab_type": "code",
        "outputId": "965afad7-5231-41ee-bb68-ceea125ab381",
        "colab": {
          "base_uri": "https://localhost:8080/",
          "height": 431
        }
      },
      "source": [
        "ax = sns.boxplot(y='valor_canc', x='fds', data=dataframe, orient='v', width=0.5)\n",
        "ax.figure.set_size_inches(12, 6)\n",
        "ax.set_title('Valor Cancelado', fontsize=20)\n",
        "ax.set_ylabel('Reais', fontsize=16)\n",
        "ax.set_xlabel('Final de Semana', fontsize=16)\n",
        "ax"
      ],
      "execution_count": 0,
      "outputs": [
        {
          "output_type": "execute_result",
          "data": {
            "text/plain": [
              "<matplotlib.axes._subplots.AxesSubplot at 0x7fef5e1dd780>"
            ]
          },
          "metadata": {
            "tags": []
          },
          "execution_count": 7
        },
        {
          "output_type": "display_data",
          "data": {
            "image/png": "[encoded data removed]",
            "text/plain": [
              "<Figure size 864x432 with 1 Axes>"
            ]
          },
          "metadata": {
            "tags": []
          }
        }
      ]
    },
    {
      "cell_type": "code",
      "metadata": {
        "id": "liZEt8y55OkD",
        "colab_type": "code",
        "outputId": "57a539a5-ec95-493e-e65f-8fb9a2b309a2",
        "colab": {
          "base_uri": "https://localhost:8080/",
          "height": 226
        }
      },
      "source": [
        "ax = sns.pairplot(dataframe, y_vars='valor_canc', x_vars=['venda_dia', 'fds'], kind='reg')\n",
        "ax.fig.suptitle('Dispersão entre as Variáveis', fontsize=20, y=1.05)\n",
        "ax"
      ],
      "execution_count": 0,
      "outputs": [
        {
          "output_type": "execute_result",
          "data": {
            "text/plain": [
              "<seaborn.axisgrid.PairGrid at 0x7fef5e1d4be0>"
            ]
          },
          "metadata": {
            "tags": []
          },
          "execution_count": 8
        },
        {
          "output_type": "display_data",
          "data": {
            "image/png": "[encoded data removed]",
            "text/plain": [
              "<Figure size 360x180 with 2 Axes>"
            ]
          },
          "metadata": {
            "tags": []
          }
        }
      ]
    },
    {
      "cell_type": "markdown",
      "metadata": {
        "id": "G5eMjIrC6Lwi",
        "colab_type": "text"
      },
      "source": [
        "# Regresão Linear"
      ]
    },
    {
      "cell_type": "code",
      "metadata": {
        "id": "unM5bThk6Nwn",
        "colab_type": "code",
        "colab": {}
      },
      "source": [
        "from sklearn.model_selection import train_test_split"
      ],
      "execution_count": 0,
      "outputs": []
    },
    {
      "cell_type": "code",
      "metadata": {
        "id": "cbC4Keq86Oxm",
        "colab_type": "code",
        "colab": {}
      },
      "source": [
        "y = dataframe['valor_canc']\n",
        "X = dataframe[['venda_dia', 'fds']]\n",
        "\n",
        "X_train, X_test, y_train, y_test = train_test_split(X, y, random_state=5)"
      ],
      "execution_count": 0,
      "outputs": []
    },
    {
      "cell_type": "code",
      "metadata": {
        "id": "qH4ECbog6o8z",
        "colab_type": "code",
        "colab": {}
      },
      "source": [
        "from sklearn.linear_model import LinearRegression\n",
        "from sklearn import metrics"
      ],
      "execution_count": 0,
      "outputs": []
    },
    {
      "cell_type": "code",
      "metadata": {
        "id": "pg4HUbbw6rap",
        "colab_type": "code",
        "outputId": "398b595f-f7a5-48e1-984b-86dc3ffb822a",
        "colab": {
          "base_uri": "https://localhost:8080/",
          "height": 34
        }
      },
      "source": [
        "model = LinearRegression()\n",
        "model.fit(X_train, y_train)"
      ],
      "execution_count": 0,
      "outputs": [
        {
          "output_type": "execute_result",
          "data": {
            "text/plain": [
              "LinearRegression(copy_X=True, fit_intercept=True, n_jobs=None, normalize=False)"
            ]
          },
          "metadata": {
            "tags": []
          },
          "execution_count": 35
        }
      ]
    },
    {
      "cell_type": "markdown",
      "metadata": {
        "id": "PN1LVWJk6zGs",
        "colab_type": "text"
      },
      "source": [
        "## Obtendo o coeficiente de determinação (R²) do modelo estimado com os dados de TREINO"
      ]
    },
    {
      "cell_type": "code",
      "metadata": {
        "id": "txkyQoJU6skc",
        "colab_type": "code",
        "outputId": "216e5d2c-9664-4eea-f5e2-25ec95540e56",
        "colab": {
          "base_uri": "https://localhost:8080/",
          "height": 34
        }
      },
      "source": [
        "print(f'R² = {model.score(X_train, y_train).round(2)}')"
      ],
      "execution_count": 0,
      "outputs": [
        {
          "output_type": "stream",
          "text": [
            "R² = 0.51\n"
          ],
          "name": "stdout"
        }
      ]
    },
    {
      "cell_type": "markdown",
      "metadata": {
        "id": "cz4uOriG69sC",
        "colab_type": "text"
      },
      "source": [
        "## Gerando previsões para os dados de TESTE (X_test)"
      ]
    },
    {
      "cell_type": "code",
      "metadata": {
        "id": "29wn6vxT6-XD",
        "colab_type": "code",
        "colab": {}
      },
      "source": [
        "y_predict = model.predict(X_test)"
      ],
      "execution_count": 0,
      "outputs": []
    },
    {
      "cell_type": "markdown",
      "metadata": {
        "id": "hYjfDm7A7ElW",
        "colab_type": "text"
      },
      "source": [
        "## Obtendo o coeficiente de determinação (R²)"
      ]
    },
    {
      "cell_type": "code",
      "metadata": {
        "id": "FfnegQX77GSh",
        "colab_type": "code",
        "outputId": "0312f545-3d67-40f5-f439-f9456f127ff3",
        "colab": {
          "base_uri": "https://localhost:8080/",
          "height": 34
        }
      },
      "source": [
        "print(f'R² = {metrics.r2_score(y_test, y_predict).round(2)}')"
      ],
      "execution_count": 0,
      "outputs": [
        {
          "output_type": "stream",
          "text": [
            "R² = 0.62\n"
          ],
          "name": "stdout"
        }
      ]
    },
    {
      "cell_type": "markdown",
      "metadata": {
        "id": "4zXEIhSe4vuv",
        "colab_type": "text"
      },
      "source": [
        "## Conclusão\n"
      ]
    },
    {
      "cell_type": "markdown",
      "metadata": {
        "id": "M-Nja555A4Cf",
        "colab_type": "text"
      },
      "source": [
        "## Previsões"
      ]
    },
    {
      "cell_type": "code",
      "metadata": {
        "id": "_KEdwfRHA56N",
        "colab_type": "code",
        "outputId": "305241de-7420-44c5-e278-e28612d2a154",
        "colab": {
          "base_uri": "https://localhost:8080/",
          "height": 34
        }
      },
      "source": [
        "entry =  X_test[0:1]\n",
        "model.predict(entry)[0].round(2)"
      ],
      "execution_count": 0,
      "outputs": [
        {
          "output_type": "execute_result",
          "data": {
            "text/plain": [
              "1124.59"
            ]
          },
          "metadata": {
            "tags": []
          },
          "execution_count": 39
        }
      ]
    },
    {
      "cell_type": "markdown",
      "metadata": {
        "id": "IOONoNTwBpPy",
        "colab_type": "text"
      },
      "source": [
        "## Simulador"
      ]
    },
    {
      "cell_type": "code",
      "metadata": {
        "id": "eQauFQivBr6X",
        "colab_type": "code",
        "outputId": "72b03715-f8fd-48a4-dfa6-ad698c16ca34",
        "colab": {
          "base_uri": "https://localhost:8080/",
          "height": 34
        }
      },
      "source": [
        "venda_dia = 7000.0\n",
        "fds = 1\n",
        "\n",
        "entry = [[venda_dia, fds]]\n",
        "\n",
        "print('R$ {0:.2f}'.format(model.predict(entry)[0]))"
      ],
      "execution_count": 0,
      "outputs": [
        {
          "output_type": "stream",
          "text": [
            "R$ 1332.47\n"
          ],
          "name": "stdout"
        }
      ]
    },
    {
      "cell_type": "markdown",
      "metadata": {
        "id": "QGhGzMmcGRQ0",
        "colab_type": "text"
      },
      "source": [
        "## Obtendo os coeficientes de regressão"
      ]
    },
    {
      "cell_type": "code",
      "metadata": {
        "id": "VftqtUR7GCl-",
        "colab_type": "code",
        "outputId": "21991b3d-5c0b-43e0-e11a-b3311a37e72a",
        "colab": {
          "base_uri": "https://localhost:8080/",
          "height": 142
        }
      },
      "source": [
        "index = ['Intercepto', 'Vendas do Dia', 'Final de Semana']\n",
        "\n",
        "pd.DataFrame(data=np.append(model.intercept_, model.coef_), index=index, columns=['Parâmetros'])"
      ],
      "execution_count": 0,
      "outputs": [
        {
          "output_type": "execute_result",
          "data": {
            "text/html": [
              "<div>\n",
              "<style scoped>\n",
              "    .dataframe tbody tr th:only-of-type {\n",
              "        vertical-align: middle;\n",
              "    }\n",
              "\n",
              "    .dataframe tbody tr th {\n",
              "        vertical-align: top;\n",
              "    }\n",
              "\n",
              "    .dataframe thead th {\n",
              "        text-align: right;\n",
              "    }\n",
              "</style>\n",
              "<table border=\"1\" class=\"dataframe\">\n",
              "  <thead>\n",
              "    <tr style=\"text-align: right;\">\n",
              "      <th></th>\n",
              "      <th>Parâmetros</th>\n",
              "    </tr>\n",
              "  </thead>\n",
              "  <tbody>\n",
              "    <tr>\n",
              "      <th>Intercepto</th>\n",
              "      <td>1.634031</td>\n",
              "    </tr>\n",
              "    <tr>\n",
              "      <th>Vendas do Dia</th>\n",
              "      <td>0.178476</td>\n",
              "    </tr>\n",
              "    <tr>\n",
              "      <th>Final de Semana</th>\n",
              "      <td>81.507763</td>\n",
              "    </tr>\n",
              "  </tbody>\n",
              "</table>\n",
              "</div>"
            ],
            "text/plain": [
              "                 Parâmetros\n",
              "Intercepto         1.634031\n",
              "Vendas do Dia      0.178476\n",
              "Final de Semana   81.507763"
            ]
          },
          "metadata": {
            "tags": []
          },
          "execution_count": 41
        }
      ]
    },
    {
      "cell_type": "markdown",
      "metadata": {
        "id": "ityOxheIHD_u",
        "colab_type": "text"
      },
      "source": [
        "## Interpretação dos Coeficientes Estimados\n",
        "\n",
        "<p style='font-size: 20px; line-height: 2; margin: 10px 50px; text-align: justify;'>\n",
        "<b>Intercepto</b> → Excluindo o efeito das variáveis explicativas ($X_2=X_3=0$) o efeito médio no Valor de Cancelamento seria de <b>R$ 1,63</b>.\n",
        "</p>\n",
        "\n",
        "<p style='font-size: 20px; line-height: 2; margin: 10px 50px; text-align: justify;'>\n",
        "<b>Vendas do Dia</b> → Mantendo-se os valores de $X_3$ (Final de Semana) constantes, o acréscimo de 1 real na Venda do dia gera uma variação média no Valor Cancelado de <b>R$ 0,17</b>.\n",
        "</p>\n",
        "\n",
        "<p style='font-size: 20px; line-height: 2; margin: 10px 50px; text-align: justify;'>\n",
        "<b>Final de Semana (Sim/Não)</b> → Mantendo-se os valores de $X_2$ (Vendas do Dia) constantes, o fato de o dia ser classificado como Final de Semana gera uma variação média no Valor Cancelado de <b>R$ 81,50</b>.\n",
        "</p>"
      ]
    }
  ]
}