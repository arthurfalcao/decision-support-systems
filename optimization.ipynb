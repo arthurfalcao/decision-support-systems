{
  "nbformat": 4,
  "nbformat_minor": 0,
  "metadata": {
    "colab": {
      "name": "optimization.ipynb",
      "provenance": [],
      "collapsed_sections": [],
      "include_colab_link": true
    },
    "kernelspec": {
      "name": "python3",
      "display_name": "Python 3"
    }
  },
  "cells": [
    {
      "cell_type": "markdown",
      "metadata": {
        "id": "view-in-github",
        "colab_type": "text"
      },
      "source": [
        "<a href=\"https://colab.research.google.com/github/arthurfalcao/decision-support-systems/blob/master/optimization.ipynb\" target=\"_parent\"><img src=\"https://colab.research.google.com/assets/colab-badge.svg\" alt=\"Open In Colab\"/></a>"
      ]
    },
    {
      "cell_type": "markdown",
      "metadata": {
        "id": "b9Q6jDQGK3Wy",
        "colab_type": "text"
      },
      "source": [
        "# Otimização\n",
        "\n",
        "## Problema:\n",
        "\n",
        "Fez se necessário após um aumento significativo nos insumos (queijo, frango e presunto), um cálculo que indique qual possui menor valor de lucro, para que o valor repassado ao consumidor seja aumentado, impedindo assim a queda no faturamento. \n",
        "\n",
        "\n",
        "## Objetivo:\n",
        "\n",
        "- Maximizar os lucros a cada produto vendido\n",
        "\n",
        "## Variáveis:\n",
        "\n",
        "- Pastel de Queijo (x)\n",
        "- Pastel de Frango com Queijo (y)\n",
        "- Pastel de Presunto com Queijo (z)\n",
        "\n",
        "## Restrições: \n",
        "\n",
        "- Quantidades de Queijo, Presunto e Frango"
      ]
    },
    {
      "cell_type": "code",
      "metadata": {
        "id": "fhdXDEh2w5ph",
        "colab_type": "code",
        "outputId": "1d4b8eb0-6205-4189-e483-82a6a94317e7",
        "colab": {
          "base_uri": "https://localhost:8080/",
          "height": 139
        }
      },
      "source": [
        "!pip install PuLP"
      ],
      "execution_count": 0,
      "outputs": [
        {
          "output_type": "stream",
          "text": [
            "Collecting PuLP\n",
            "\u001b[?25l  Downloading https://files.pythonhosted.org/packages/fb/34/ff5915ff6bae91cfb7c4cc22c3c369a6aea0b2127045dd5f308a91c260ac/PuLP-2.0-py3-none-any.whl (39.2MB)\n",
            "\u001b[K     |████████████████████████████████| 39.2MB 59kB/s \n",
            "\u001b[?25hRequirement already satisfied: pyparsing>=2.0.1 in /usr/local/lib/python3.6/dist-packages (from PuLP) (2.4.5)\n",
            "Installing collected packages: PuLP\n",
            "Successfully installed PuLP-2.0\n"
          ],
          "name": "stdout"
        }
      ]
    },
    {
      "cell_type": "code",
      "metadata": {
        "id": "FHkUpaYz82d6",
        "colab_type": "code",
        "colab": {}
      },
      "source": [
        "import pulp"
      ],
      "execution_count": 0,
      "outputs": []
    },
    {
      "cell_type": "code",
      "metadata": {
        "id": "xVn5hLuu86TY",
        "colab_type": "code",
        "outputId": "a985e1e2-5592-43d0-8264-5cfddc382fa9",
        "colab": {
          "base_uri": "https://localhost:8080/",
          "height": 34
        }
      },
      "source": [
        "prob = pulp.LpProblem(\"Armazenamento_de_Recheios\", pulp.LpMaximize)\n",
        "\n",
        "x = pulp.LpVariable(\"Pastel de Queijo\", lowBound=0, cat='Integer')\n",
        "y = pulp.LpVariable(\"Pastel de Frango com Queijo\", lowBound=0, cat=\"Integer\")\n",
        "z = pulp.LpVariable(\"Pastel de Queijo com Presunto\", lowBound=0, cat='Integer')\n",
        "\n",
        "prob += 6*x + 4.5*y + 6*z, \"Valores (R$)\"\n",
        "prob += 150*x + 100*y + 100*z <= 20000, \"Queijo (g)\"\n",
        "prob += 90*z <= 5000, \"Presunto (g)\"\n",
        "prob += 100*y <= 7000, \"Frango (g)\""
      ],
      "execution_count": 0,
      "outputs": [
        {
          "output_type": "execute_result",
          "data": {
            "text/plain": [
              "1"
            ]
          },
          "metadata": {
            "tags": []
          },
          "execution_count": 11
        }
      ]
    },
    {
      "cell_type": "code",
      "metadata": {
        "id": "jbDQPxwDMZLN",
        "colab_type": "code",
        "colab": {}
      },
      "source": [
        "prob.writeLP(\"DonPastello.lp\")\n",
        "prob.solve()"
      ],
      "execution_count": 0,
      "outputs": []
    },
    {
      "cell_type": "code",
      "metadata": {
        "id": "Xkpzpuoa9IGv",
        "colab_type": "code",
        "outputId": "f64b8c64-5fa1-4317-aeba-91cbbc33df03",
        "colab": {
          "base_uri": "https://localhost:8080/",
          "height": 34
        }
      },
      "source": [
        "print(f\"Status: {pulp.LpStatus[prob.status]}\")"
      ],
      "execution_count": 0,
      "outputs": [
        {
          "output_type": "stream",
          "text": [
            "Status: Optimal\n"
          ],
          "name": "stdout"
        }
      ]
    },
    {
      "cell_type": "code",
      "metadata": {
        "id": "IxdPlhbi-Po3",
        "colab_type": "code",
        "outputId": "88e127f2-fa2a-4f6a-f8f4-f7586101cc91",
        "colab": {
          "base_uri": "https://localhost:8080/",
          "height": 68
        }
      },
      "source": [
        "for v in prob.variables():\n",
        "    print(f\"{v.name} = {v.varValue}\")"
      ],
      "execution_count": 0,
      "outputs": [
        {
          "output_type": "stream",
          "text": [
            "Pastel_de_Frango_com_Queijo = 70.0\n",
            "Pastel_de_Queijo = 50.0\n",
            "Pastel_de_Queijo_com_Presunto = 55.0\n"
          ],
          "name": "stdout"
        }
      ]
    },
    {
      "cell_type": "code",
      "metadata": {
        "id": "KVou4QDM-Ufi",
        "colab_type": "code",
        "outputId": "123985d4-c2b6-427b-add0-986617131078",
        "colab": {
          "base_uri": "https://localhost:8080/",
          "height": 34
        }
      },
      "source": [
        "print(f\"Valor total = {pulp.value(prob.objective)}\")"
      ],
      "execution_count": 0,
      "outputs": [
        {
          "output_type": "stream",
          "text": [
            "Valor total = 945.0\n"
          ],
          "name": "stdout"
        }
      ]
    }
  ]
}